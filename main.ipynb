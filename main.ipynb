{
 "cells": [
  {
   "cell_type": "markdown",
   "id": "4faf4676",
   "metadata": {},
   "source": [
    "Stock Market Crash Analysis "
   ]
  },
  {
   "cell_type": "markdown",
   "id": "d778a0a5",
   "metadata": {},
   "source": [
    "So, let’s get started with the task of stock market crash analysis by importing the necessary Python libraries and the dataset:"
   ]
  },
  {
   "cell_type": "code",
   "execution_count": 16,
   "id": "ac82367a",
   "metadata": {},
   "outputs": [],
   "source": [
    "import pandas as pd \n",
    "import numpy as np"
   ]
  },
  {
   "cell_type": "code",
   "execution_count": 17,
   "id": "e2e49ddc",
   "metadata": {},
   "outputs": [
    {
     "name": "stdout",
     "output_type": "stream",
     "text": [
      "         Date        Close         High          Low         Open  Volume\n",
      "0  1997-07-01  4300.859863  4301.770020  4247.660156  4263.109863       0\n",
      "1  1997-07-02  4333.899902  4395.310059  4295.399902  4302.959961       0\n",
      "2  1997-07-03  4323.459961  4393.290039  4299.970215  4335.790039       0\n",
      "3  1997-07-04  4323.819824  4347.589844  4300.580078  4332.700195       0\n",
      "4  1997-07-07  4291.450195  4391.009766  4289.490234  4326.810059       0\n"
     ]
    }
   ],
   "source": [
    "df = pd.read_csv('cleaned_sensex.csv')\n",
    "print(df.head())"
   ]
  },
  {
   "cell_type": "markdown",
   "id": "3c68b235",
   "metadata": {},
   "source": [
    "Let’s convert the ‘Date’ column to datetime, sort the data by date, and set it as the DataFrame index:"
   ]
  },
  {
   "cell_type": "code",
   "execution_count": 18,
   "id": "d0917634",
   "metadata": {},
   "outputs": [
    {
     "name": "stdout",
     "output_type": "stream",
     "text": [
      "\n",
      "DataFrame after processing the Data column:\n",
      "         Date        Close         High          Low         Open  Volume\n",
      "0  1997-07-01  4300.859863  4301.770020  4247.660156  4263.109863       0\n",
      "1  1997-07-02  4333.899902  4395.310059  4295.399902  4302.959961       0\n",
      "2  1997-07-03  4323.459961  4393.290039  4299.970215  4335.790039       0\n",
      "3  1997-07-04  4323.819824  4347.589844  4300.580078  4332.700195       0\n",
      "4  1997-07-07  4291.450195  4391.009766  4289.490234  4326.810059       0\n"
     ]
    }
   ],
   "source": [
    "if 'Data' in df.columns:\n",
    "    df['Data'] = pd.to_datetime(df['Date'])\n",
    "    df = df.sort_values('Data')\n",
    "    df.set_index('Data', inplace=True)\n",
    "\n",
    "\n",
    "print(\"\\nDataFrame after processing the Data column:\")\n",
    "print(df.head())"
   ]
  },
  {
   "cell_type": "markdown",
   "id": "d0496542",
   "metadata": {},
   "source": [
    "The code first checks if the DataFrame contains a ‘Date’ column. It then converts the values in the ‘Date’ column to datetime objects. This step ensures the dates have the correct format for time series analysis. Next, the code sorts the DataFrame by the ‘Date’ column in chronological order. Finally, it sets the ‘Date’ column as the index to simplify time series operations."
   ]
  },
  {
   "cell_type": "markdown",
   "id": "49a34af7",
   "metadata": {},
   "source": [
    "Analyzing Crashes\n",
    "Now, let’s calculate the daily percentage change and identify crash days:"
   ]
  },
  {
   "cell_type": "code",
   "execution_count": 20,
   "id": "9b15f47f",
   "metadata": {},
   "outputs": [],
   "source": [
    "df['Daily_Return'] = df['Close'].pct_change() * 100\n",
    "\n",
    "# Define the threshold for a daily crash (e.g., drop more than 5%)\n",
    "crash_threshold_daily = -5\n",
    "df['Crash_Daily'] = df['Daily_Return'] <= crash_threshold_daily"
   ]
  },
  {
   "cell_type": "markdown",
   "id": "93562ea6",
   "metadata": {},
   "source": [
    "The code first calculates the daily percentage change in the ‘Close’ column using the pct_change() function. It then multiplies the result by 100 to convert the changes into percentages. The resulting values are stored in a new column called ‘Daily_Return’. Next, the code defines a threshold of -5% to identify significant daily drops. These drops are flagged as potential crash events for further analysis.\n",
    "\n",
    "The code then creates a boolean column named ‘Crash_Daily’ to flag extreme daily declines. It marks a day as True if the daily return is less than or equal to -5%. Otherwise, it marks the day as False. This step helps quickly identify days with significant market drops."
   ]
  },
  {
   "cell_type": "markdown",
   "id": "6a9233af",
   "metadata": {},
   "source": [
    "Now, let’s have a look at the Sensex closing prices and highlight daily crashes:"
   ]
  },
  {
   "cell_type": "code",
   "execution_count": null,
   "id": "8d1af8ce",
   "metadata": {},
   "outputs": [],
   "source": []
  },
  {
   "cell_type": "code",
   "execution_count": null,
   "id": "d62477b1",
   "metadata": {},
   "outputs": [],
   "source": []
  }
 ],
 "metadata": {
  "kernelspec": {
   "display_name": "Python 3",
   "language": "python",
   "name": "python3"
  },
  "language_info": {
   "codemirror_mode": {
    "name": "ipython",
    "version": 3
   },
   "file_extension": ".py",
   "mimetype": "text/x-python",
   "name": "python",
   "nbconvert_exporter": "python",
   "pygments_lexer": "ipython3",
   "version": "3.11.0"
  }
 },
 "nbformat": 4,
 "nbformat_minor": 5
}
